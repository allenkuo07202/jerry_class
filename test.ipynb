{
 "cells": [
  {
   "cell_type": "code",
   "execution_count": 1,
   "metadata": {},
   "outputs": [
    {
     "name": "stdout",
     "output_type": "stream",
     "text": [
      "35\n"
     ]
    }
   ],
   "source": [
    "x=10\n",
    "y=25\n",
    "print(x+y)"
   ]
  },
  {
   "cell_type": "code",
   "execution_count": 6,
   "metadata": {},
   "outputs": [],
   "source": [
    "loanAmount = 100000\n",
    "interestRate = 10\n",
    "loanYear=3"
   ]
  },
  {
   "attachments": {},
   "cell_type": "markdown",
   "metadata": {},
   "source": [
    "### 本金攤還"
   ]
  },
  {
   "cell_type": "code",
   "execution_count": 7,
   "metadata": {},
   "outputs": [
    {
     "data": {
      "text/plain": [
       "36"
      ]
     },
     "execution_count": 7,
     "metadata": {},
     "output_type": "execute_result"
    }
   ],
   "source": [
    "period = loanYear*12\n",
    "period"
   ]
  },
  {
   "attachments": {},
   "cell_type": "markdown",
   "metadata": {},
   "source": [
    "### 每月償還本金"
   ]
  },
  {
   "cell_type": "code",
   "execution_count": 8,
   "metadata": {},
   "outputs": [
    {
     "data": {
      "text/plain": [
       "2777"
      ]
     },
     "execution_count": 8,
     "metadata": {},
     "output_type": "execute_result"
    }
   ],
   "source": [
    "monthReplacement = int(loanAmount/period)\n",
    "monthReplacement"
   ]
  },
  {
   "attachments": {},
   "cell_type": "markdown",
   "metadata": {},
   "source": [
    "### 每月償還利息(遞減)\n",
    "- 貸款餘額*(月利率)"
   ]
  },
  {
   "cell_type": "code",
   "execution_count": 9,
   "metadata": {},
   "outputs": [
    {
     "data": {
      "text/plain": [
       "833"
      ]
     },
     "execution_count": 9,
     "metadata": {},
     "output_type": "execute_result"
    }
   ],
   "source": [
    "interest = int(loanAmount*(interestRate/100/12))\n",
    "interest"
   ]
  },
  {
   "cell_type": "code",
   "execution_count": 15,
   "metadata": {},
   "outputs": [
    {
     "name": "stdout",
     "output_type": "stream",
     "text": [
      "[833, 810, 787, 764, 741, 718, 694, 671, 648, 625, 602, 579, 556, 532, 509, 486, 463, 440, 417, 394, 370, 347, 324, 301, 278, 255, 232, 209, 185, 162, 139, 116, 93, 70, 47, 23]\n"
     ]
    }
   ],
   "source": [
    "interest = []\n",
    "for i in range(period):\n",
    "    interest_num = (loanAmount-monthReplacement*i)*(interestRate/100/12)\n",
    "    interest.append(round(interest_num))\n",
    "print(interest)"
   ]
  },
  {
   "cell_type": "code",
   "execution_count": 13,
   "metadata": {},
   "outputs": [
    {
     "data": {
      "text/plain": [
       "2805"
      ]
     },
     "execution_count": 13,
     "metadata": {},
     "output_type": "execute_result"
    }
   ],
   "source": [
    "finalReplacement=loanAmount-monthReplacement*(period-1)\n",
    "finalReplacement"
   ]
  },
  {
   "cell_type": "code",
   "execution_count": 17,
   "metadata": {},
   "outputs": [
    {
     "name": "stdout",
     "output_type": "stream",
     "text": [
      "3610\n",
      "3587\n",
      "3564\n",
      "3541\n",
      "3518\n",
      "3495\n",
      "3471\n",
      "3448\n",
      "3425\n",
      "3402\n",
      "3379\n",
      "3356\n",
      "3333\n",
      "3309\n",
      "3286\n",
      "3263\n",
      "3240\n",
      "3217\n",
      "3194\n",
      "3171\n",
      "3147\n",
      "3124\n",
      "3101\n",
      "3078\n",
      "3055\n",
      "3032\n",
      "3009\n",
      "2986\n",
      "2962\n",
      "2939\n",
      "2916\n",
      "2893\n",
      "2870\n",
      "2847\n",
      "2824\n",
      "2800\n"
     ]
    }
   ],
   "source": [
    "for j in interest:\n",
    "    print(j+monthReplacement)"
   ]
  }
 ],
 "metadata": {
  "kernelspec": {
   "display_name": "base",
   "language": "python",
   "name": "python3"
  },
  "language_info": {
   "codemirror_mode": {
    "name": "ipython",
    "version": 3
   },
   "file_extension": ".py",
   "mimetype": "text/x-python",
   "name": "python",
   "nbconvert_exporter": "python",
   "pygments_lexer": "ipython3",
   "version": "3.9.7"
  },
  "orig_nbformat": 4
 },
 "nbformat": 4,
 "nbformat_minor": 2
}
